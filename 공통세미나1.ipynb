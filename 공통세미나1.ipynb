{
  "nbformat": 4,
  "nbformat_minor": 0,
  "metadata": {
    "colab": {
      "name": "공통세미나.ipynb",
      "provenance": [],
      "collapsed_sections": [],
      "authorship_tag": "ABX9TyNmmqT3yOK6Oi2gWXLovW4w",
      "include_colab_link": true
    },
    "kernelspec": {
      "name": "python3",
      "display_name": "Python 3"
    },
    "language_info": {
      "name": "python"
    }
  },
  "cells": [
    {
      "cell_type": "markdown",
      "metadata": {
        "id": "view-in-github",
        "colab_type": "text"
      },
      "source": [
        "<a href=\"https://colab.research.google.com/github/hmm0403/Artificial-Intelligence-with-Python-Second-Edition/blob/master/%EA%B3%B5%ED%86%B5%EC%84%B8%EB%AF%B8%EB%82%981.ipynb\" target=\"_parent\"><img src=\"https://colab.research.google.com/assets/colab-badge.svg\" alt=\"Open In Colab\"/></a>"
      ]
    },
    {
      "cell_type": "code",
      "execution_count": null,
      "metadata": {
        "id": "C0yVGCAi5Wfm"
      },
      "outputs": [],
      "source": [
        "## 한권으로 끝내는 딥러닝& 머신러닝"
      ]
    },
    {
      "cell_type": "code",
      "source": [
        "from sklearn import datasets"
      ],
      "metadata": {
        "id": "osz-uOZw5fSy"
      },
      "execution_count": null,
      "outputs": []
    },
    {
      "cell_type": "code",
      "source": [
        "house_prices = datasets.load_boston()"
      ],
      "metadata": {
        "colab": {
          "base_uri": "https://localhost:8080/"
        },
        "id": "jE2j8sTx5gcN",
        "outputId": "142aaa45-6ddd-4ac4-db98-11c8e4923fda"
      },
      "execution_count": null,
      "outputs": [
        {
          "output_type": "stream",
          "name": "stderr",
          "text": [
            "/usr/local/lib/python3.7/dist-packages/sklearn/utils/deprecation.py:87: FutureWarning: Function load_boston is deprecated; `load_boston` is deprecated in 1.0 and will be removed in 1.2.\n",
            "\n",
            "    The Boston housing prices dataset has an ethical problem. You can refer to\n",
            "    the documentation of this function for further details.\n",
            "\n",
            "    The scikit-learn maintainers therefore strongly discourage the use of this\n",
            "    dataset unless the purpose of the code is to study and educate about\n",
            "    ethical issues in data science and machine learning.\n",
            "\n",
            "    In this special case, you can fetch the dataset from the original\n",
            "    source::\n",
            "\n",
            "        import pandas as pd\n",
            "        import numpy as np\n",
            "\n",
            "\n",
            "        data_url = \"http://lib.stat.cmu.edu/datasets/boston\"\n",
            "        raw_df = pd.read_csv(data_url, sep=\"\\s+\", skiprows=22, header=None)\n",
            "        data = np.hstack([raw_df.values[::2, :], raw_df.values[1::2, :2]])\n",
            "        target = raw_df.values[1::2, 2]\n",
            "\n",
            "    Alternative datasets include the California housing dataset (i.e.\n",
            "    :func:`~sklearn.datasets.fetch_california_housing`) and the Ames housing\n",
            "    dataset. You can load the datasets as follows::\n",
            "\n",
            "        from sklearn.datasets import fetch_california_housing\n",
            "        housing = fetch_california_housing()\n",
            "\n",
            "    for the California housing dataset and::\n",
            "\n",
            "        from sklearn.datasets import fetch_openml\n",
            "        housing = fetch_openml(name=\"house_prices\", as_frame=True)\n",
            "\n",
            "    for the Ames housing dataset.\n",
            "    \n",
            "  warnings.warn(msg, category=FutureWarning)\n"
          ]
        }
      ]
    },
    {
      "cell_type": "code",
      "source": [
        "print(house_prices.data)"
      ],
      "metadata": {
        "colab": {
          "base_uri": "https://localhost:8080/"
        },
        "id": "vhTQ9j0Y5ny5",
        "outputId": "9b44ff8d-d985-4015-9355-c9cf225dd309"
      },
      "execution_count": null,
      "outputs": [
        {
          "output_type": "stream",
          "name": "stdout",
          "text": [
            "[[6.3200e-03 1.8000e+01 2.3100e+00 ... 1.5300e+01 3.9690e+02 4.9800e+00]\n",
            " [2.7310e-02 0.0000e+00 7.0700e+00 ... 1.7800e+01 3.9690e+02 9.1400e+00]\n",
            " [2.7290e-02 0.0000e+00 7.0700e+00 ... 1.7800e+01 3.9283e+02 4.0300e+00]\n",
            " ...\n",
            " [6.0760e-02 0.0000e+00 1.1930e+01 ... 2.1000e+01 3.9690e+02 5.6400e+00]\n",
            " [1.0959e-01 0.0000e+00 1.1930e+01 ... 2.1000e+01 3.9345e+02 6.4800e+00]\n",
            " [4.7410e-02 0.0000e+00 1.1930e+01 ... 2.1000e+01 3.9690e+02 7.8800e+00]]\n"
          ]
        }
      ]
    },
    {
      "cell_type": "code",
      "source": [
        "print(house_prices.target)"
      ],
      "metadata": {
        "colab": {
          "base_uri": "https://localhost:8080/"
        },
        "id": "EEFmXkfO5sCx",
        "outputId": "1377dd9c-3bfe-4eda-d704-bcded2eed521"
      },
      "execution_count": null,
      "outputs": [
        {
          "output_type": "stream",
          "name": "stdout",
          "text": [
            "[24.  21.6 34.7 33.4 36.2 28.7 22.9 27.1 16.5 18.9 15.  18.9 21.7 20.4\n",
            " 18.2 19.9 23.1 17.5 20.2 18.2 13.6 19.6 15.2 14.5 15.6 13.9 16.6 14.8\n",
            " 18.4 21.  12.7 14.5 13.2 13.1 13.5 18.9 20.  21.  24.7 30.8 34.9 26.6\n",
            " 25.3 24.7 21.2 19.3 20.  16.6 14.4 19.4 19.7 20.5 25.  23.4 18.9 35.4\n",
            " 24.7 31.6 23.3 19.6 18.7 16.  22.2 25.  33.  23.5 19.4 22.  17.4 20.9\n",
            " 24.2 21.7 22.8 23.4 24.1 21.4 20.  20.8 21.2 20.3 28.  23.9 24.8 22.9\n",
            " 23.9 26.6 22.5 22.2 23.6 28.7 22.6 22.  22.9 25.  20.6 28.4 21.4 38.7\n",
            " 43.8 33.2 27.5 26.5 18.6 19.3 20.1 19.5 19.5 20.4 19.8 19.4 21.7 22.8\n",
            " 18.8 18.7 18.5 18.3 21.2 19.2 20.4 19.3 22.  20.3 20.5 17.3 18.8 21.4\n",
            " 15.7 16.2 18.  14.3 19.2 19.6 23.  18.4 15.6 18.1 17.4 17.1 13.3 17.8\n",
            " 14.  14.4 13.4 15.6 11.8 13.8 15.6 14.6 17.8 15.4 21.5 19.6 15.3 19.4\n",
            " 17.  15.6 13.1 41.3 24.3 23.3 27.  50.  50.  50.  22.7 25.  50.  23.8\n",
            " 23.8 22.3 17.4 19.1 23.1 23.6 22.6 29.4 23.2 24.6 29.9 37.2 39.8 36.2\n",
            " 37.9 32.5 26.4 29.6 50.  32.  29.8 34.9 37.  30.5 36.4 31.1 29.1 50.\n",
            " 33.3 30.3 34.6 34.9 32.9 24.1 42.3 48.5 50.  22.6 24.4 22.5 24.4 20.\n",
            " 21.7 19.3 22.4 28.1 23.7 25.  23.3 28.7 21.5 23.  26.7 21.7 27.5 30.1\n",
            " 44.8 50.  37.6 31.6 46.7 31.5 24.3 31.7 41.7 48.3 29.  24.  25.1 31.5\n",
            " 23.7 23.3 22.  20.1 22.2 23.7 17.6 18.5 24.3 20.5 24.5 26.2 24.4 24.8\n",
            " 29.6 42.8 21.9 20.9 44.  50.  36.  30.1 33.8 43.1 48.8 31.  36.5 22.8\n",
            " 30.7 50.  43.5 20.7 21.1 25.2 24.4 35.2 32.4 32.  33.2 33.1 29.1 35.1\n",
            " 45.4 35.4 46.  50.  32.2 22.  20.1 23.2 22.3 24.8 28.5 37.3 27.9 23.9\n",
            " 21.7 28.6 27.1 20.3 22.5 29.  24.8 22.  26.4 33.1 36.1 28.4 33.4 28.2\n",
            " 22.8 20.3 16.1 22.1 19.4 21.6 23.8 16.2 17.8 19.8 23.1 21.  23.8 23.1\n",
            " 20.4 18.5 25.  24.6 23.  22.2 19.3 22.6 19.8 17.1 19.4 22.2 20.7 21.1\n",
            " 19.5 18.5 20.6 19.  18.7 32.7 16.5 23.9 31.2 17.5 17.2 23.1 24.5 26.6\n",
            " 22.9 24.1 18.6 30.1 18.2 20.6 17.8 21.7 22.7 22.6 25.  19.9 20.8 16.8\n",
            " 21.9 27.5 21.9 23.1 50.  50.  50.  50.  50.  13.8 13.8 15.  13.9 13.3\n",
            " 13.1 10.2 10.4 10.9 11.3 12.3  8.8  7.2 10.5  7.4 10.2 11.5 15.1 23.2\n",
            "  9.7 13.8 12.7 13.1 12.5  8.5  5.   6.3  5.6  7.2 12.1  8.3  8.5  5.\n",
            " 11.9 27.9 17.2 27.5 15.  17.2 17.9 16.3  7.   7.2  7.5 10.4  8.8  8.4\n",
            " 16.7 14.2 20.8 13.4 11.7  8.3 10.2 10.9 11.   9.5 14.5 14.1 16.1 14.3\n",
            " 11.7 13.4  9.6  8.7  8.4 12.8 10.5 17.1 18.4 15.4 10.8 11.8 14.9 12.6\n",
            " 14.1 13.  13.4 15.2 16.1 17.8 14.9 14.1 12.7 13.5 14.9 20.  16.4 17.7\n",
            " 19.5 20.2 21.4 19.9 19.  19.1 19.1 20.1 19.9 19.6 23.2 29.8 13.8 13.3\n",
            " 16.7 12.  14.6 21.4 23.  23.7 25.  21.8 20.6 21.2 19.1 20.6 15.2  7.\n",
            "  8.1 13.6 20.1 21.8 24.5 23.1 19.7 18.3 21.2 17.5 16.8 22.4 20.6 23.9\n",
            " 22.  11.9]\n"
          ]
        }
      ]
    },
    {
      "cell_type": "code",
      "source": [
        "digits = datasets.load_digits()"
      ],
      "metadata": {
        "id": "4SyfGBUO5ytj"
      },
      "execution_count": null,
      "outputs": []
    },
    {
      "cell_type": "code",
      "source": [
        "print(digits.images[4])"
      ],
      "metadata": {
        "colab": {
          "base_uri": "https://localhost:8080/"
        },
        "id": "ILpoOR2s54P2",
        "outputId": "8dd0888e-c6d3-48c5-dfdb-0905bc2a3c32"
      },
      "execution_count": null,
      "outputs": [
        {
          "output_type": "stream",
          "name": "stdout",
          "text": [
            "[[ 0.  0.  0.  1. 11.  0.  0.  0.]\n",
            " [ 0.  0.  0.  7.  8.  0.  0.  0.]\n",
            " [ 0.  0.  1. 13.  6.  2.  2.  0.]\n",
            " [ 0.  0.  7. 15.  0.  9.  8.  0.]\n",
            " [ 0.  5. 16. 10.  0. 16.  6.  0.]\n",
            " [ 0.  4. 15. 16. 13. 16.  1.  0.]\n",
            " [ 0.  0.  0.  3. 15. 10.  0.  0.]\n",
            " [ 0.  0.  0.  2. 16.  4.  0.  0.]]\n"
          ]
        }
      ]
    },
    {
      "cell_type": "markdown",
      "source": [
        "# Chapter 4"
      ],
      "metadata": {
        "id": "G20eTXNbT_qn"
      }
    },
    {
      "cell_type": "code",
      "source": [
        "import pandas as pd\n",
        "\n",
        "from sklearn.ensemble import ExtraTreesClassifier\n",
        "import numpy as np\n",
        "import matplotlib.pyplot as plt\n",
        "\n",
        "data = pd.read_csv(\"train.csv\")\n",
        "X = data.iloc[:, 0:20] # 독립 열\n",
        "#print(X)\n",
        "y = data.iloc[:, -1]   # 목표 특성을 위해 마지막 열을 선택\n",
        "\n",
        "model = ExtraTreesClassifier()\n",
        "model.fit(X,y)\n",
        "\n",
        "print(model.feature_importances_) # 내장 클래스 사용\n",
        "\n",
        "# 트리 기반 분류기의 특성 중요도\n",
        "# 더 나은 시각화를 위해 특성 중요도 그래프를 출력\n",
        "feat_importances = pd.Series(model.feature_importances_, index=X.columns)\n",
        "feat_importances.nlargest(5).plot(kind='barh')\n",
        "plt.show()"
      ],
      "metadata": {
        "colab": {
          "base_uri": "https://localhost:8080/",
          "height": 302
        },
        "id": "ofjvlp5AUGFt",
        "outputId": "6d0545ee-de4c-4e81-b941-2f3f39a80bf1"
      },
      "execution_count": 3,
      "outputs": [
        {
          "output_type": "stream",
          "name": "stdout",
          "text": [
            "[0.20920786 0.01805698 0.15987356 0.0152213  0.14650797 0.03235297\n",
            " 0.41877935]\n"
          ]
        },
        {
          "output_type": "display_data",
          "data": {
            "text/plain": [
              "<Figure size 432x288 with 1 Axes>"
            ],
            "image/png": "[encoded data removed]"
          },
          "metadata": {
            "needs_background": "light"
          }
        }
      ]
    },
    {
      "cell_type": "code",
      "source": [
        "import pandas as pd\n",
        "import numpy as np\n",
        "\n",
        "from sklearn.feature_selection import SelectKBest\n",
        "from sklearn.feature_selection import chi2\n",
        "data = pd.read_csv(\"train.csv\")\n",
        "\n",
        "X = data.iloc[:,0:20] #independent columns\n",
        "y = data.iloc[:,-1] #pick last column for the target feature\n",
        "\n",
        "#apply SelectKBest class to extract top 5 best features\n",
        "bestfeatures = SelectKBest(score_func=chi2, k=5)\n",
        "fit = bestfeatures.fit(X,y)\n",
        "dfscores = pd.DataFrame(fit.scores_)\n",
        "\n",
        "dfcolumns = pd.DataFrame(X.columns)\n",
        "scores = pd.concat([dfcolumns,dfscores],axis=1)\n",
        "scores.columns = ['specs','score']\n",
        "print(scores.nlargest(5,'score')) #print the 5 best features"
      ],
      "metadata": {
        "colab": {
          "base_uri": "https://localhost:8080/"
        },
        "id": "no4vc7wWVq5V",
        "outputId": "a9e350c8-ffcb-41ca-d70f-71b406f54cad"
      },
      "execution_count": 5,
      "outputs": [
        {
          "output_type": "stream",
          "name": "stdout",
          "text": [
            "           specs         score\n",
            "6     int_memory  20539.050302\n",
            "0  battery_power  11058.155685\n",
            "4             fc    290.812265\n",
            "1           blue     36.976457\n",
            "3       dual_sim     36.485969\n"
          ]
        }
      ]
    },
    {
      "cell_type": "code",
      "source": [
        "import pandas as pd\n",
        "import numpy as np\n",
        "import seaborn as sns\n",
        "import matplotlib.pyplot as plt\n",
        "data = pd.read_csv(\"train.csv\")\n",
        "X = data.iloc[:,0:20] #independent columns\n",
        "y = data.iloc[:,-1] # pick last column for the target feature\n",
        "#get the correlations of each feature in the dataset\n",
        "correlation_matrix = data.corr()\n",
        "top_corr_features = correlation_matrix.index\n",
        "plt.figure(figsize=(20,20))\n",
        "#plot heat map\n",
        "g=sns.heatmap(data[top_corr_features].corr(),annot=True,cmap=\"RdYlGn\")"
      ],
      "metadata": {
        "colab": {
          "base_uri": "https://localhost:8080/",
          "height": 1000
        },
        "id": "P7cQPSlIWCY6",
        "outputId": "dc376427-6eb4-4153-d69b-d59c5247c45a"
      },
      "execution_count": 6,
      "outputs": [
        {
          "output_type": "display_data",
          "data": {
            "text/plain": [
              "<Figure size 1440x1440 with 2 Axes>"
            ],
            "image/png": "[encoded data removed]"
          },
          "metadata": {
            "needs_background": "light"
          }
        }
      ]
    },
    {
      "cell_type": "code",
      "source": [
        "threshold = 0.6\n",
        "#Drop columns with a missing value rate higher than threshold\n",
        "data = data[data.columns[data.isnull().mean() < threshold]]\n",
        "#Drop rows with missing value rate higher than threshold\n",
        "data = data.loc[data.isnull().mean(axis=1) < threshold]\n",
        "threshold = 0.6\n",
        "#Drop columns with a missing value rate higher than threshold\n",
        "data = data[data.columns[data.isnull().mean() < threshold]]\n",
        "#Drop rows with missing value rate higher than threshold\n",
        "data = data.loc[data.isnull().mean(axis=1) < threshold]\n",
        "print(data)"
      ],
      "metadata": {
        "colab": {
          "base_uri": "https://localhost:8080/"
        },
        "id": "cnnqq-etWIYT",
        "outputId": "6aa79442-2e86-4da1-8a72-04d3dc1de085"
      },
      "execution_count": 7,
      "outputs": [
        {
          "output_type": "stream",
          "name": "stdout",
          "text": [
            "      battery_power  blue  clock_speed  dual_sim  fc  four_g  int_memory\n",
            "0               842     0          2.2         0   1       0           7\n",
            "1              1021     1          0.5         1   0       1          53\n",
            "2               563     1          0.5         1   2       1          41\n",
            "3               615     1          2.5         0   0       0          10\n",
            "4              1821     1          1.2         0  13       1          44\n",
            "...             ...   ...          ...       ...  ..     ...         ...\n",
            "1995            794     1          0.5         1   0       1           2\n",
            "1996           1965     1          2.6         1   0       0          39\n",
            "1997           1911     0          0.9         1   1       1          36\n",
            "1998           1512     0          0.9         0   4       1          46\n",
            "1999            510     1          2.0         1   5       1          45\n",
            "\n",
            "[2000 rows x 7 columns]\n"
          ]
        }
      ]
    },
    {
      "cell_type": "code",
      "source": [
        "#Filling all missing values with 0\n",
        "data = data.fillna(0)\n",
        "#Filling missing values with medians of the columns\n",
        "data = data.fillna(data.median())\n",
        "print(data)"
      ],
      "metadata": {
        "colab": {
          "base_uri": "https://localhost:8080/"
        },
        "id": "J5AFARkSWV0H",
        "outputId": "7f3f323c-e1a9-46e8-d0f8-d01e08c2a695"
      },
      "execution_count": 8,
      "outputs": [
        {
          "output_type": "stream",
          "name": "stdout",
          "text": [
            "      battery_power  blue  clock_speed  dual_sim  fc  four_g  int_memory\n",
            "0               842     0          2.2         0   1       0           7\n",
            "1              1021     1          0.5         1   0       1          53\n",
            "2               563     1          0.5         1   2       1          41\n",
            "3               615     1          2.5         0   0       0          10\n",
            "4              1821     1          1.2         0  13       1          44\n",
            "...             ...   ...          ...       ...  ..     ...         ...\n",
            "1995            794     1          0.5         1   0       1           2\n",
            "1996           1965     1          2.6         1   0       0          39\n",
            "1997           1911     0          0.9         1   1       1          36\n",
            "1998           1512     0          0.9         0   4       1          46\n",
            "1999            510     1          2.0         1   5       1          45\n",
            "\n",
            "[2000 rows x 7 columns]\n"
          ]
        }
      ]
    },
    {
      "cell_type": "code",
      "source": [
        "#Max fill function for categorical columns\n",
        "import pandas as pd\n",
        "data = pd.read_csv(\"dataset.csv\")\n",
        "data['color'].fillna(data['color'].value_counts().idxmax(),\n",
        "inplace=True)\n",
        "print(data)"
      ],
      "metadata": {
        "colab": {
          "base_uri": "https://localhost:8080/"
        },
        "id": "_WDyjssfWZH6",
        "outputId": "9d16edf4-e36e-404d-a0fa-b1c13930d265"
      },
      "execution_count": 9,
      "outputs": [
        {
          "output_type": "stream",
          "name": "stdout",
          "text": [
            "    index   color\n",
            "0       0   green\n",
            "1       1  yellow\n",
            "2       2    red \n",
            "3       3    red \n",
            "4       4  purple\n",
            "5       5    red \n",
            "6       6    red \n",
            "7       7  purple\n",
            "8       8    red \n",
            "9       9    red \n",
            "10     10  yellow\n",
            "11     11    red \n",
            "12     12   black\n",
            "13     13   white\n"
          ]
        }
      ]
    },
    {
      "cell_type": "code",
      "source": [
        "#Dropping the outlier rows with standard deviation\n",
        "import pandas as pd\n",
        "data = pd.read_csv(\"train.csv\")\n",
        "#Dropping the outlier rows with standard deviation\n",
        "factor = 2\n",
        "upper_lim = data['battery_power'].mean () + data['battery_power'].std() * factor\n",
        "lower_lim = data['battery_power'].mean () - data['battery_power'].std() * factor\n",
        "data = data[(data['battery_power'] < upper_lim) & (data['battery_power'] > lower_lim)]\n",
        "print(data)"
      ],
      "metadata": {
        "colab": {
          "base_uri": "https://localhost:8080/"
        },
        "id": "R4eL8P8KWbIg",
        "outputId": "b23fb6d4-01b1-445f-afcb-b38082db52e8"
      },
      "execution_count": 10,
      "outputs": [
        {
          "output_type": "stream",
          "name": "stdout",
          "text": [
            "      battery_power  blue  clock_speed  dual_sim  fc  four_g  int_memory\n",
            "0               842     0          2.2         0   1       0           7\n",
            "1              1021     1          0.5         1   0       1          53\n",
            "2               563     1          0.5         1   2       1          41\n",
            "3               615     1          2.5         0   0       0          10\n",
            "4              1821     1          1.2         0  13       1          44\n",
            "...             ...   ...          ...       ...  ..     ...         ...\n",
            "1995            794     1          0.5         1   0       1           2\n",
            "1996           1965     1          2.6         1   0       0          39\n",
            "1997           1911     0          0.9         1   1       1          36\n",
            "1998           1512     0          0.9         0   4       1          46\n",
            "1999            510     1          2.0         1   5       1          45\n",
            "\n",
            "[2000 rows x 7 columns]\n"
          ]
        }
      ]
    },
    {
      "cell_type": "code",
      "source": [
        "#Dropping the outlier rows with Percentiles\n",
        "upper_lim = data['battery_power'].quantile(.99)\n",
        "lower_lim = data['battery_power'].quantile(.01)\n",
        "data = data[(data['battery_power'] < upper_lim) & (data['battery_power'] > lower_lim)]\n",
        "print(data)"
      ],
      "metadata": {
        "colab": {
          "base_uri": "https://localhost:8080/"
        },
        "id": "tyjgQEG2Weqh",
        "outputId": "23fd3152-d66b-49e4-f889-1915afddd496"
      },
      "execution_count": 11,
      "outputs": [
        {
          "output_type": "stream",
          "name": "stdout",
          "text": [
            "      battery_power  blue  clock_speed  dual_sim  fc  four_g  int_memory\n",
            "0               842     0          2.2         0   1       0           7\n",
            "1              1021     1          0.5         1   0       1          53\n",
            "2               563     1          0.5         1   2       1          41\n",
            "3               615     1          2.5         0   0       0          10\n",
            "4              1821     1          1.2         0  13       1          44\n",
            "...             ...   ...          ...       ...  ..     ...         ...\n",
            "1994            858     0          2.2         0   1       0          50\n",
            "1995            794     1          0.5         1   0       1           2\n",
            "1996           1965     1          2.6         1   0       0          39\n",
            "1997           1911     0          0.9         1   1       1          36\n",
            "1998           1512     0          0.9         0   4       1          46\n",
            "\n",
            "[1957 rows x 7 columns]\n"
          ]
        }
      ]
    },
    {
      "cell_type": "code",
      "source": [
        "#Capping the outlier rows with percentiles\n",
        "upper_lim = data['battery_power'].quantile(.99)\n",
        "lower_lim = data['battery_power'].quantile(.01)\n",
        "data.loc[(data['battery_power'] > upper_lim), 'battery_power'] = upper_lim\n",
        "data.loc[(data['battery_power'] < lower_lim), 'battery_power'] = lower_lim\n",
        "print(data)"
      ],
      "metadata": {
        "colab": {
          "base_uri": "https://localhost:8080/"
        },
        "id": "eSNBN28FWgtr",
        "outputId": "de78aba0-bab1-482a-f9d4-0e9f0290c79e"
      },
      "execution_count": 12,
      "outputs": [
        {
          "output_type": "stream",
          "name": "stdout",
          "text": [
            "      battery_power  blue  clock_speed  dual_sim  fc  four_g  int_memory\n",
            "0             842.0     0          2.2         0   1       0           7\n",
            "1            1021.0     1          0.5         1   0       1          53\n",
            "2             563.0     1          0.5         1   2       1          41\n",
            "3             615.0     1          2.5         0   0       0          10\n",
            "4            1821.0     1          1.2         0  13       1          44\n",
            "...             ...   ...          ...       ...  ..     ...         ...\n",
            "1994          858.0     0          2.2         0   1       0          50\n",
            "1995          794.0     1          0.5         1   0       1           2\n",
            "1996         1965.0     1          2.6         1   0       0          39\n",
            "1997         1911.0     0          0.9         1   1       1          36\n",
            "1998         1512.0     0          0.9         0   4       1          46\n",
            "\n",
            "[1957 rows x 7 columns]\n"
          ]
        }
      ]
    },
    {
      "cell_type": "code",
      "source": [
        "import pandas as pd\n",
        "data = pd.read_csv(\"dataset.csv\")\n",
        "encoded_columns = pd.get_dummies(data['color'])\n",
        "data = data.join(encoded_columns).drop('color', axis=1)\n",
        "print(data)"
      ],
      "metadata": {
        "colab": {
          "base_uri": "https://localhost:8080/"
        },
        "id": "zdLAd1MuWjDc",
        "outputId": "f1d66380-59d1-43c8-a75d-ec5dee7ac640"
      },
      "execution_count": 13,
      "outputs": [
        {
          "output_type": "stream",
          "name": "stdout",
          "text": [
            "    index  black  green  purple  red   white  yellow\n",
            "0       0      0      1       0     0      0       0\n",
            "1       1      0      0       0     0      0       1\n",
            "2       2      0      0       0     0      0       0\n",
            "3       3      0      0       0     1      0       0\n",
            "4       4      0      0       1     0      0       0\n",
            "5       5      0      0       0     1      0       0\n",
            "6       6      0      0       0     1      0       0\n",
            "7       7      0      0       1     0      0       0\n",
            "8       8      0      0       0     0      0       0\n",
            "9       9      0      0       0     1      0       0\n",
            "10     10      0      0       0     0      0       1\n",
            "11     11      0      0       0     0      0       0\n",
            "12     12      1      0       0     0      0       0\n",
            "13     13      0      0       0     0      1       0\n"
          ]
        }
      ]
    },
    {
      "cell_type": "code",
      "source": [
        "#Log Transform Example\n",
        "data = pd.DataFrame({'value':[3,67, -17, 44, 37, 3, 31, -38]})\n",
        "data['log+1'] = (data['value']+1).transform(np.log)\n",
        "#Negative Values Handling\n",
        "#Note that the values are different\n",
        "data['log'] = (data['value']-data['value'].min()+1) .transform(np.log)\n",
        "print(data)"
      ],
      "metadata": {
        "colab": {
          "base_uri": "https://localhost:8080/"
        },
        "id": "5WqpKtrWWk-V",
        "outputId": "c15bab2e-9fa7-4f18-cafc-5282b9e7cf94"
      },
      "execution_count": 14,
      "outputs": [
        {
          "output_type": "stream",
          "name": "stdout",
          "text": [
            "   value     log+1       log\n",
            "0      3  1.386294  3.737670\n",
            "1     67  4.219508  4.663439\n",
            "2    -17       NaN  3.091042\n",
            "3     44  3.806662  4.418841\n",
            "4     37  3.637586  4.330733\n",
            "5      3  1.386294  3.737670\n",
            "6     31  3.465736  4.248495\n",
            "7    -38       NaN  0.000000\n"
          ]
        }
      ]
    },
    {
      "cell_type": "code",
      "source": [
        "data = pd.DataFrame({'value':[7,25, -47, 73, 8, 22, 53, -25]})\n",
        "data['normalized'] = (data['value'] - data['value'].min()) / (data['value'].max() - data['value'].min())\n",
        "print(data)"
      ],
      "metadata": {
        "colab": {
          "base_uri": "https://localhost:8080/"
        },
        "id": "hmFurt_xWm57",
        "outputId": "773b4e5d-3899-400d-8eed-db8283120145"
      },
      "execution_count": 15,
      "outputs": [
        {
          "output_type": "stream",
          "name": "stdout",
          "text": [
            "   value  normalized\n",
            "0      7    0.450000\n",
            "1     25    0.600000\n",
            "2    -47    0.000000\n",
            "3     73    1.000000\n",
            "4      8    0.458333\n",
            "5     22    0.575000\n",
            "6     53    0.833333\n",
            "7    -25    0.183333\n"
          ]
        }
      ]
    },
    {
      "cell_type": "code",
      "source": [
        "data = pd.DataFrame({'value':[7,25, -47, 73, 8, 22, 53, -25]})\n",
        "data['standardized'] = (data['value'] - data['value'].mean()) / data['value'].std()\n",
        "print(data)"
      ],
      "metadata": {
        "colab": {
          "base_uri": "https://localhost:8080/"
        },
        "id": "ePg2m49kWpoH",
        "outputId": "6a8fb26d-439b-4447-be51-0bccbc0324cb"
      },
      "execution_count": 16,
      "outputs": [
        {
          "output_type": "stream",
          "name": "stdout",
          "text": [
            "   value  standardized\n",
            "0      7     -0.193539\n",
            "1     25      0.270954\n",
            "2    -47     -1.587017\n",
            "3     73      1.509601\n",
            "4      8     -0.167733\n",
            "5     22      0.193539\n",
            "6     53      0.993498\n",
            "7    -25     -1.019303\n"
          ]
        }
      ]
    },
    {
      "cell_type": "code",
      "source": [
        ""
      ],
      "metadata": {
        "id": "K-R93CccWr5g"
      },
      "execution_count": null,
      "outputs": []
    }
  ]
}